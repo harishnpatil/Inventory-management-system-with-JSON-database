{
 "cells": [
  {
   "cell_type": "code",
   "execution_count": 1,
   "id": "0b8c5e16-99ef-48ec-8bbb-6e8d350c0fdb",
   "metadata": {},
   "outputs": [],
   "source": [
    "record ={ 1001 :{'name':\"5star\",'price':10 ,'quantity':200 },\n",
    "          1002:{'name':\"bar-one\",'price':20 ,'quantity':100 } ,\n",
    "          1003:{'name':\"candy\",'price':2 ,'quantity':1200 },\n",
    "          1004:{'name':\"chocolate cake\",'price':300 ,'quantity':30 } ,\n",
    "          1005:{'name':\"blackberry cake\",'price':500,'quantity':16 }}\n"
   ]
  },
  {
   "cell_type": "code",
   "execution_count": 77,
   "id": "c121bab3-295f-4fc9-a715-d30cde6926ec",
   "metadata": {},
   "outputs": [
    {
     "data": {
      "text/plain": [
       "{1001: {'name': '5star', 'price': 10, 'quantity': 200},\n",
       " 1002: {'name': 'bar-one', 'price': 20, 'quantity': 100},\n",
       " 1003: {'name': 'candy', 'price': 2, 'quantity': 1200},\n",
       " 1004: {'name': 'chocolate cake', 'price': 300, 'quantity': 30},\n",
       " 1005: {'name': 'blackberry cake', 'price': 500, 'quantity': 16}}"
      ]
     },
     "execution_count": 77,
     "metadata": {},
     "output_type": "execute_result"
    }
   ],
   "source": [
    "record"
   ]
  },
  {
   "cell_type": "code",
   "execution_count": 2,
   "id": "343fbccd-165d-428c-8da4-7c24d6a0d3d3",
   "metadata": {},
   "outputs": [
    {
     "name": "stdout",
     "output_type": "stream",
     "text": [
      "----------------------MENU------------------------\n",
      "\n",
      "1001 5star | 10 | 145\n",
      "1002 bar-one | 20 | 88\n",
      "1003 candy | 2 | 1100\n",
      "1004 chocolate cake | 300 | 30\n",
      "1005 blackberry cake | 500 | 0\n",
      "----------------------------------------------\n",
      "\n"
     ]
    },
    {
     "name": "stdin",
     "output_type": "stream",
     "text": [
      "Enter your name            :  Harish Patil\n",
      "Enter your mail ID         :  harishnp5357@gmail.com\n",
      "Enter your phone           :  7387922296\n",
      "Enter the Product ID or Name:  candy\n",
      "Enter Quantity             :  100\n"
     ]
    },
    {
     "name": "stdout",
     "output_type": "stream",
     "text": [
      "--------------------\n",
      "Your order details\n",
      "--------------------\n",
      "Name                 : candy\n",
      "Price (Rs)           : 2 Rs\n",
      "Quantity             : 100\n",
      "Original Bill (Rs)   : 200 Rs\n",
      "--------------------\n",
      "Discounted Bill (Rs) :  190.0 Rs\n",
      "As it is a special day, you get a 5% discount!\n",
      "You saved:  10.0 Rs\n",
      "--------------------\n",
      "\n",
      "---------------------------------------------\n",
      "  Thanks for your order, Inventory Updated!  \n",
      "---------------------------------------------\n"
     ]
    }
   ],
   "source": [
    "import json\n",
    "import time\n",
    "\n",
    "sale = \"\"\n",
    "\n",
    "# Importing inventory data from records.json \n",
    "fd = open(\"records.json\", \"r\")\n",
    "js = fd.read()\n",
    "fd.close()\n",
    "\n",
    "# Converting string data to dictionary\n",
    "record = json.loads(js)\n",
    "\n",
    "# Showing available products \n",
    "print('----------------------MENU------------------------\\n')\n",
    "for i in record.keys():\n",
    "    print(i, record[i]['name'], '|', record[i]['price'], '|', record[i]['quantity'])\n",
    "\n",
    "print('----------------------------------------------\\n')\n",
    "\n",
    "# Taking input from user about the product they want to purchase  \n",
    "ui_name = input('Enter your name            : ')\n",
    "ui_mail = input('Enter your mail ID         : ')\n",
    "ui_phone = input(\"Enter your phone           : \")\n",
    "ui_prod_identifier = input(\"Enter the Product ID or Name: \")\n",
    "ui_prod_qn = int(input(\"Enter Quantity             : \"))\n",
    "\n",
    "# Search for the product by ID or Name\n",
    "product_found = False\n",
    "for prod_id, prod_details in record.items():\n",
    "    if ui_prod_identifier == prod_id or ui_prod_identifier.lower() == prod_details['name'].lower():\n",
    "        ui_prod_id = prod_id\n",
    "        product_found = True\n",
    "        break\n",
    "\n",
    "if not product_found:\n",
    "    print(\"Product not found. Please check the ID or Name and try again.\")\n",
    "else:\n",
    "    # Matches the quantity if we have equal or more than that user wants \n",
    "    if record[ui_prod_id]['quantity'] >= ui_prod_qn:\n",
    "\n",
    "        print('--' * 10)\n",
    "        print(\"Your order details\")\n",
    "        print('--' * 10)\n",
    "\n",
    "        original_price = record[ui_prod_id]['price'] * ui_prod_qn\n",
    "        discount = 0.05  # 5% discount\n",
    "        discounted_price = original_price * (1 - discount)\n",
    "        savings = original_price - discounted_price\n",
    "\n",
    "        print('Name                 :', record[ui_prod_id]['name'])\n",
    "        print('Price (Rs)           :', record[ui_prod_id]['price'], \"Rs\")\n",
    "        print('Quantity             :', ui_prod_qn)\n",
    "        print('Original Bill (Rs)   :', original_price, \"Rs\")\n",
    "        print('--' * 10)\n",
    "        print(\"Discounted Bill (Rs) : \", discounted_price, \"Rs\")\n",
    "        print(\"As it is a special day, you get a 5% discount!\")\n",
    "        print(\"You saved: \", savings, \"Rs\")\n",
    "        print('--' * 10)\n",
    "\n",
    "        # Updating inventory in dictionary \n",
    "        record[ui_prod_id]['quantity'] = record[ui_prod_id]['quantity'] - ui_prod_qn\n",
    "\n",
    "        # Generating transaction details in CSV\n",
    "        sale = '1' + \",\" + ui_name + \",\" + ui_mail + \",\" + ui_phone + \",\" + ui_prod_id + \",\" + record[ui_prod_id][\"name\"] + \",\" + str(ui_prod_qn) + \",\" + str(record[ui_prod_id][\"price\"]) + \",\" + str(discounted_price) + \",\" + time.ctime() + \",\" + \"\\n\"\n",
    "\n",
    "    # If we have less quantity than the user wants \n",
    "    else:\n",
    "        print(\"Sorry, we're not having enough quantity in our inventory.\")\n",
    "        print(\"We're only having \", record[ui_prod_id]['quantity'], 'qn')\n",
    "        print('--' * 10)\n",
    "        ch = str(input(\"Press Y/y to purchase \"))\n",
    "\n",
    "        # If user is interested to purchase whole available quantity then by pressing \"y\" or \"Y\" he can \n",
    "        if ch == 'y' or ch == 'Y':\n",
    "\n",
    "            print('--' * 10)\n",
    "            print(\"Your order details\")\n",
    "            print('--' * 10)\n",
    "\n",
    "            original_price = record[ui_prod_id]['price'] * record[ui_prod_id]['quantity']\n",
    "            discounted_price = original_price * (1 - discount)\n",
    "            savings = original_price - discounted_price\n",
    "\n",
    "            print('Name                 :', record[ui_prod_id]['name'])\n",
    "            print('Price (Rs)           :', record[ui_prod_id]['price'], \"Rs\")\n",
    "            print('Quantity             :', record[ui_prod_id]['quantity'])\n",
    "            print('Original Bill (Rs)   :', original_price, \"Rs\")\n",
    "            print('--' * 10)\n",
    "            print(\"Discounted Bill (Rs) : \", discounted_price, \"Rs\")\n",
    "            print(\"As it is a special day, you get a 5% discount!\")\n",
    "            print(\"You saved: \", savings, \"Rs\")\n",
    "            print('--' * 10)\n",
    "\n",
    "            # Updating inventory in dictionary \n",
    "            record[ui_prod_id]['quantity'] = 0\n",
    "\n",
    "            # Generating transaction details in CSV\n",
    "            sale = '1' + \",\" + ui_name + \",\" + ui_mail + \",\" + ui_phone + \",\" + ui_prod_id + \",\" + record[ui_prod_id][\"name\"] + \",\" + str(record[ui_prod_id]['quantity']) + \",\" + str(record[ui_prod_id][\"price\"]) + \",\" + str(discounted_price) + \",\" + time.ctime() + \",\" + \"\\n\"\n",
    "\n",
    "        # If user doesn't want to purchase remaining ones \n",
    "        else:\n",
    "            print(\"Thanks\")\n",
    "\n",
    "# Converting inventory dictionary to string \n",
    "js = json.dumps(record)\n",
    "\n",
    "# Updating inventory and saving into records.json\n",
    "fd = open(\"records.json\", 'w')\n",
    "fd.write(js)\n",
    "fd.close()\n",
    "\n",
    "# Adding transaction to CSV file  \n",
    "fd = open(\"sales.csv\", \"a\")\n",
    "fd.write(sale)\n",
    "fd.close()\n",
    "\n",
    "print('')\n",
    "print(\"---------------------------------------------\")\n",
    "print(\"  Thanks for your order, Inventory Updated!  \")\n",
    "print(\"---------------------------------------------\")\n"
   ]
  },
  {
   "cell_type": "code",
   "execution_count": null,
   "id": "d6fb56b3-7258-46c7-8982-cf59daeb7f86",
   "metadata": {},
   "outputs": [],
   "source": [
    "\n"
   ]
  }
 ],
 "metadata": {
  "kernelspec": {
   "display_name": "Python 3 (ipykernel)",
   "language": "python",
   "name": "python3"
  },
  "language_info": {
   "codemirror_mode": {
    "name": "ipython",
    "version": 3
   },
   "file_extension": ".py",
   "mimetype": "text/x-python",
   "name": "python",
   "nbconvert_exporter": "python",
   "pygments_lexer": "ipython3",
   "version": "3.12.4"
  }
 },
 "nbformat": 4,
 "nbformat_minor": 5
}
